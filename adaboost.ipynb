{
 "cells": [
  {
   "cell_type": "markdown",
   "id": "a0adbd93",
   "metadata": {},
   "source": [
    "# Adaboost"
   ]
  },
  {
   "cell_type": "markdown",
   "id": "8a823490",
   "metadata": {},
   "source": [
    "### 5 diferenças entre o Random Forest e o AdaBoost"
   ]
  },
  {
   "cell_type": "markdown",
   "id": "43ed10cc",
   "metadata": {},
   "source": [
    "- Abordagem de treinamento: Random Forest usa um processo de treinamento de bootstrap, onde várias amostras são retiradas do conjunto de dados de treinamento para cada árvore individual. O AdaBoost, por outro lado, usa um processo de treinamento iterativo, onde os exemplos mal classificados são ponderados mais fortemente a cada iteração.\n"
   ]
  },
  {
   "cell_type": "markdown",
   "id": "639becfb",
   "metadata": {},
   "source": [
    "- Tamanho do conjunto de árvores: Random Forest usa várias árvores independentes para fazer previsões com todas as features, enquanto o AdaBoost usa uma floresta de árvores, que é construída e atualizada em cada iteração e tem um nó e duas folhas (stump) e apenas uma feature."
   ]
  },
  {
   "cell_type": "markdown",
   "id": "b10bef64",
   "metadata": {},
   "source": [
    "-  Processamento: Random Forest roda as árvores em paralelo, enquanto o AdaBoost usa uma abordagem sequencial"
   ]
  },
  {
   "cell_type": "markdown",
   "id": "5287a1de",
   "metadata": {},
   "source": [
    "- Sensibilidade a ruídos: Random Forest é menos sensível a ruídos e valores discrepantes nos dados de treinamento do que o AdaBoost. Isso ocorre porque o Random Forest usa a média de várias previsões de árvores independentes, o que reduz a influência de valores discrepantes individuais. Enquanto o AdaBoost utiliza a soma dos pesos ponderadamente."
   ]
  },
  {
   "cell_type": "markdown",
   "id": "5d12a7b8",
   "metadata": {},
   "source": [
    "- Tolerância a sobreajuste: Random Forest tem uma tendência a sobreajustar menos do que o AdaBoost, especialmente em conjuntos de dados com muitas características. Isso ocorre porque a construção de várias árvores independentes reduz a probabilidade de que um conjunto específico de recursos seja superadaptado."
   ]
  },
  {
   "cell_type": "markdown",
   "id": "816b0cef",
   "metadata": {},
   "source": [
    "## Exemplo AdaBoost Scikit Learn"
   ]
  },
  {
   "cell_type": "code",
   "execution_count": 1,
   "id": "ba5c4aae",
   "metadata": {},
   "outputs": [
    {
     "data": {
      "text/plain": [
       "0.9466666666666665"
      ]
     },
     "execution_count": 1,
     "metadata": {},
     "output_type": "execute_result"
    }
   ],
   "source": [
    "from sklearn.model_selection import cross_val_score\n",
    "from sklearn.datasets import load_iris\n",
    "from sklearn.ensemble import AdaBoostClassifier\n",
    "\n",
    "X, y = load_iris(return_X_y=True)\n",
    "clf = AdaBoostClassifier(n_estimators=100)\n",
    "scores = cross_val_score(clf, X, y, cv=5)\n",
    "scores.mean()"
   ]
  },
  {
   "cell_type": "markdown",
   "id": "44a2d76d",
   "metadata": {},
   "source": [
    "## Hiperparâmetros do AdaBoost"
   ]
  },
  {
   "cell_type": "markdown",
   "id": "276821ae",
   "metadata": {},
   "source": [
    "- n_estimators: Número de estimadores\n",
    "- base_estimator: Estimador que servirá de base para a construção do Ensemble. Por padrão, são árvores de decisão.\n",
    "- max_depth: profundidade máxima de cada árvore de decisão. O padrão é 1.\n",
    "- min_samples_split: mínimo de amostras em cada nó para fezer a divisão.\n",
    "- learning_rate: Peso atribuido a cada classificador em cada iteração do Boosting."
   ]
  },
  {
   "cell_type": "markdown",
   "id": "116d00f5",
   "metadata": {},
   "source": [
    "## GridSearch para encontrar os melhores hyperparametros para o conjunto de dados do exemplo (load_iris)"
   ]
  },
  {
   "cell_type": "code",
   "execution_count": 11,
   "id": "c6548416",
   "metadata": {},
   "outputs": [
    {
     "data": {
      "text/plain": [
       "0.7933333333333333"
      ]
     },
     "execution_count": 11,
     "metadata": {},
     "output_type": "execute_result"
    }
   ],
   "source": [
    "import numpy as np\n",
    "from sklearn.model_selection import GridSearchCV\n",
    "\n",
    "clf = AdaBoostClassifier()\n",
    "\n",
    "params = {\n",
    "    'n_estimators': np.arange(1, 202, 20),\n",
    "    'learning_rate': np.exp(np.arange(1, 20, 4))\n",
    "}\n",
    "\n",
    "grid = GridSearchCV(\n",
    "    estimator = clf,\n",
    "    param_grid = params,\n",
    "    scoring = 'accuracy',\n",
    "    cv = 3\n",
    ")\n",
    "\n",
    "grid.fit(X, y)\n",
    "\n",
    "grid.score(X, y)"
   ]
  }
 ],
 "metadata": {
  "kernelspec": {
   "display_name": "Python 3 (ipykernel)",
   "language": "python",
   "name": "python3"
  },
  "language_info": {
   "codemirror_mode": {
    "name": "ipython",
    "version": 3
   },
   "file_extension": ".py",
   "mimetype": "text/x-python",
   "name": "python",
   "nbconvert_exporter": "python",
   "pygments_lexer": "ipython3",
   "version": "3.10.9"
  }
 },
 "nbformat": 4,
 "nbformat_minor": 5
}
